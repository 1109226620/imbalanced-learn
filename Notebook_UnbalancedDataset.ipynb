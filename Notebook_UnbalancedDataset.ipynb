{
 "cells": [
  {
   "cell_type": "markdown",
   "metadata": {},
   "source": [
    "# UnbalancedDataset\n",
    "\n",
    "### A python toolbox to tackle the problem of imbalanced dataset\n",
    "\n",
    "F. Nogueira\n",
    "\n",
    "G. Lemaitre\n",
    "\n"
   ]
  },
  {
   "cell_type": "code",
   "execution_count": 13,
   "metadata": {
    "collapsed": false
   },
   "outputs": [],
   "source": [
    "import prettyplotlib as ppl\n",
    "\n",
    "# Set the random seed for consistency\n",
    "np.random.seed(12)\n",
    "\n",
    "# Show the whole color range\n",
    "for i in range(8):\n",
    "    x = np.random.normal(loc=i, size=1000)\n",
    "    y = np.random.normal(loc=i, size=1000)\n",
    "    ax = ppl.scatter(x, y, label=str(i))\n",
    "    \n",
    "ppl.legend(ax)\n",
    "ppl.plt.show()"
   ]
  },
  {
   "cell_type": "code",
   "execution_count": null,
   "metadata": {
    "collapsed": true
   },
   "outputs": [],
   "source": []
  }
 ],
 "metadata": {
  "kernelspec": {
   "display_name": "Python 2",
   "language": "python",
   "name": "python2"
  },
  "language_info": {
   "codemirror_mode": {
    "name": "ipython",
    "version": 2
   },
   "file_extension": ".py",
   "mimetype": "text/x-python",
   "name": "python",
   "nbconvert_exporter": "python",
   "pygments_lexer": "ipython2",
   "version": "2.7.9"
  }
 },
 "nbformat": 4,
 "nbformat_minor": 0
}
